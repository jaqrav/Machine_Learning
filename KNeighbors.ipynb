{
 "cells": [
  {
   "cell_type": "markdown",
   "id": "410effef-2527-4286-a125-660bec230cde",
   "metadata": {},
   "source": [
    "# Movie classification\n",
    "\n",
    "The classification uses data available here:\n",
    "\n",
    "https://raw.githubusercontent.com/danielgrijalva/movie-stats/master/movies.csv,\n",
    "\n",
    "and is based on the course at Codecademy on K-Neighbors ML Algorithm. \n",
    "\n",
    "The aim of the classification is to predict if a film is a good one based on its parameters, such as its year of production, budget, runtime etc.\n",
    "\n",
    "In the first part, all functions are written using basic library functions from numpy and math. \n",
    "\n",
    "Pandas is used for data importing and manipulatiton.\n",
    "\n",
    "In the second part, functions from sklearn library are used for the classification."
   ]
  },
  {
   "cell_type": "markdown",
   "id": "da87faa2-df11-4489-9d6d-83b4e0abef45",
   "metadata": {},
   "source": [
    "# Functions used"
   ]
  },
  {
   "cell_type": "code",
   "execution_count": 59,
   "id": "31079a99-bbb3-4fcb-b5a7-9fdd7fabf813",
   "metadata": {},
   "outputs": [],
   "source": [
    "import pandas as pd\n",
    "import numpy as np\n",
    "import math as m\n",
    "from sklearn.model_selection import train_test_split\n",
    "\n",
    "# Renormalization function\n",
    "def min_max_normalization(x):\n",
    "    '''\n",
    "    renormalize values of x vector from [x_min, x_max] to [0, 1]\n",
    "    '''\n",
    "    x_min = min(x)\n",
    "    x_max = max(x)\n",
    "    return (x - x_min)/(x_max - x_min)\n",
    "\n",
    "# Distance between two points\n",
    "def euclidean_distance(p1, p2):\n",
    "    '''\n",
    "    calculate distance between two points\n",
    "    '''\n",
    "    return (np.sum((p1 - p2)**2))**0.5\n",
    "\n",
    "# Classification function\n",
    "def classify(unknown, data, labels, k):\n",
    "    '''\n",
    "    input:\n",
    "    uknown - parameters of a film to be classified\n",
    "    data - training film parameters\n",
    "    labels - training film scores\n",
    "    k - number of neighbors in K-Neighbors method\n",
    "    \n",
    "    return: predicted score of the film\n",
    "    '''\n",
    "    # Calculate distances from the film to other films\n",
    "    distances = []\n",
    "    for i in range(len(data)):\n",
    "        dist = euclidean_distance(unknown, data[i])\n",
    "        distances.append([labels[i], dist])\n",
    "    \n",
    "    # Choose only k nearest films\n",
    "    distances.sort(key=lambda x: x[1])\n",
    "    kneighbors = distances[:k]\n",
    "\n",
    "    # Decide if the film is good\n",
    "    class_unknown = 0\n",
    "    for i in range(len(kneighbors)):\n",
    "        class_unknown += kneighbors[i][0]\n",
    "    class_unknown = class_unknown / k\n",
    "\n",
    "    if class_unknown >= 0.5:\n",
    "        return 1\n",
    "    else:\n",
    "        return 0\n",
    "\n",
    "# Testing function\n",
    "def testing_subset(xtest, xtrain, ytrain, k):\n",
    "    '''\n",
    "    input:\n",
    "    xtest - parameters of tested films\n",
    "    xtrain - parameterd of films in the model\n",
    "    ytrain - labels of films in the model\n",
    "    k - number of neighbors in K-Neighbors method\n",
    "\n",
    "    return: predicted score of the films (ypredict)\n",
    "    '''\n",
    "    predict = []\n",
    "    for j in range(len(xtest)):\n",
    "        predict.append(classify(xtest[j], xtrain, ytrain, k))\n",
    "    return np.array(predict)\n",
    "\n",
    "# Accuracy\n",
    "def accuracy(y_predict, ytest):\n",
    "    return np.sum(y_predict == ytest)/len(y_predict)\n",
    "\n",
    "# Precision\n",
    "def precision(y_predict, ytest):\n",
    "    predicted_positives = y_predict == 1\n",
    "    true_positives = (ytest == 1) & predicted_positives\n",
    "    return np.sum(true_positives) / np.sum(predicted_positives)\n",
    "\n",
    "# Recall\n",
    "def recall(y_predict, ytest):\n",
    "    actual_positives = ytest == 1\n",
    "    true_positives = (y_predict == 1) & actual_positives\n",
    "    return np.sum(true_positives) / np.sum(actual_positives)\n",
    "\n",
    "# F1 score\n",
    "def f1(y_predict, ytest):\n",
    "    r = recall(y_predict, ytest)\n",
    "    p = precision(y_predict, ytest)\n",
    "    return 2*p*r / (p + r) \n",
    "\n",
    "# Get rid of NaNs\n",
    "def catch_NaN(v):\n",
    "    indices_NaN = []\n",
    "    for i in range(len(v)):\n",
    "        if m.isnan(v[i]):\n",
    "            indices_NaN.append(i)\n",
    "    return np.array(indices_NaN)"
   ]
  },
  {
   "cell_type": "markdown",
   "id": "2ee0fc96-e6ec-4ebe-8a2a-fd9dd451aedb",
   "metadata": {},
   "source": [
    "# Import data"
   ]
  },
  {
   "cell_type": "code",
   "execution_count": 3,
   "id": "34532535-4fd1-410c-a4ea-ff7b0a35adf3",
   "metadata": {},
   "outputs": [
    {
     "name": "stdout",
     "output_type": "stream",
     "text": [
      "                                             name rating      genre  year  \\\n",
      "0                                     The Shining      R      Drama  1980   \n",
      "1                                 The Blue Lagoon      R  Adventure  1980   \n",
      "2  Star Wars: Episode V - The Empire Strikes Back     PG     Action  1980   \n",
      "3                                       Airplane!     PG     Comedy  1980   \n",
      "4                                      Caddyshack      R     Comedy  1980   \n",
      "\n",
      "                        released  score      votes         director  \\\n",
      "0  June 13, 1980 (United States)    8.4   927000.0  Stanley Kubrick   \n",
      "1   July 2, 1980 (United States)    5.8    65000.0   Randal Kleiser   \n",
      "2  June 20, 1980 (United States)    8.7  1200000.0   Irvin Kershner   \n",
      "3   July 2, 1980 (United States)    7.7   221000.0     Jim Abrahams   \n",
      "4  July 25, 1980 (United States)    7.3   108000.0     Harold Ramis   \n",
      "\n",
      "                    writer            star         country      budget  \\\n",
      "0             Stephen King  Jack Nicholson  United Kingdom  19000000.0   \n",
      "1  Henry De Vere Stacpoole  Brooke Shields   United States   4500000.0   \n",
      "2           Leigh Brackett     Mark Hamill   United States  18000000.0   \n",
      "3             Jim Abrahams     Robert Hays   United States   3500000.0   \n",
      "4       Brian Doyle-Murray     Chevy Chase   United States   6000000.0   \n",
      "\n",
      "         gross             company  runtime  \n",
      "0   46998772.0        Warner Bros.    146.0  \n",
      "1   58853106.0   Columbia Pictures    104.0  \n",
      "2  538375067.0           Lucasfilm    124.0  \n",
      "3   83453539.0  Paramount Pictures     88.0  \n",
      "4   39846344.0      Orion Pictures     98.0  \n"
     ]
    }
   ],
   "source": [
    "# Import data\n",
    "df = pd.read_csv('https://raw.githubusercontent.com/danielgrijalva/movie-stats/master/movies.csv')\n",
    "\n",
    "# Show first 5 lines\n",
    "print(df.head())"
   ]
  },
  {
   "cell_type": "code",
   "execution_count": 4,
   "id": "a9d5c034-0f7a-4262-a5ac-7a7df5f9be52",
   "metadata": {},
   "outputs": [
    {
     "name": "stdout",
     "output_type": "stream",
     "text": [
      "Index(['name', 'rating', 'genre', 'year', 'released', 'score', 'votes',\n",
      "       'director', 'writer', 'star', 'country', 'budget', 'gross', 'company',\n",
      "       'runtime'],\n",
      "      dtype='object')\n",
      "Number of records: 7668\n"
     ]
    }
   ],
   "source": [
    "# Show column names\n",
    "print(df.columns)\n",
    "print('Number of records:', len(df))"
   ]
  },
  {
   "cell_type": "code",
   "execution_count": 5,
   "id": "825078c2-ea4e-421c-8e50-47ede9cc9195",
   "metadata": {},
   "outputs": [],
   "source": [
    "# Put data to a data frame\n",
    "\n",
    "year = df[['year']]\n",
    "score = df[['score']]\n",
    "votes = df[['votes']]\n",
    "budget = df[['budget']]\n",
    "gross = df[['gross']]\n",
    "duration = df[['runtime']]\n",
    "\n",
    "year = min_max_normalization(np.array(year).flatten())\n",
    "votes = min_max_normalization(np.array(votes).flatten())\n",
    "budget = min_max_normalization(np.array(budget).flatten())\n",
    "gross = min_max_normalization(np.array(gross).flatten())\n",
    "duration = min_max_normalization(np.array(duration).flatten())\n",
    "\n",
    "score = np.array(score).flatten()"
   ]
  },
  {
   "cell_type": "code",
   "execution_count": 6,
   "id": "eadb38c5-2004-44fa-81e9-87883b8a38ff",
   "metadata": {},
   "outputs": [
    {
     "name": "stdout",
     "output_type": "stream",
     "text": [
      "Indices of NaN values: [  16   19   24 ... 7665 7666 7667]\n",
      "2233 NaN values found in the dataset.\n"
     ]
    }
   ],
   "source": [
    "# Get rid of NaN\n",
    "\n",
    "index_of_nan_votes = catch_NaN(votes)\n",
    "index_of_nan_budget = catch_NaN(budget)\n",
    "index_of_nan_gross = catch_NaN(gross)\n",
    "index_of_nan_duration = catch_NaN(duration)\n",
    "index_of_nan_score = catch_NaN(score)\n",
    "\n",
    "all_indces = np.concatenate((index_of_nan_score, index_of_nan_votes, index_of_nan_budget, index_of_nan_gross, index_of_nan_duration))\n",
    "all_indces = np.unique(all_indces)\n",
    "\n",
    "print('Indices of NaN values:', all_indces)\n",
    "print(len(all_indces), 'NaN values found in the dataset.')\n",
    "\n",
    "# Remove rows with NaN values\n",
    "year = np.delete(year, all_indces)\n",
    "score = np.delete(score, all_indces)\n",
    "votes = np.delete(votes, all_indces)\n",
    "budget = np.delete(budget, all_indces)\n",
    "gross = np.delete(gross, all_indces)\n",
    "duration = np.delete(duration, all_indces)"
   ]
  },
  {
   "cell_type": "code",
   "execution_count": 7,
   "id": "2f94f1c0-ac9e-40cf-ab3e-513737902c51",
   "metadata": {},
   "outputs": [
    {
     "name": "stdout",
     "output_type": "stream",
     "text": [
      "   year  score     votes    budget     gross   runtime\n",
      "0   0.0    8.4  0.386248  0.053363  0.016507  0.292605\n",
      "1   0.0    5.8  0.027080  0.012632  0.020670  0.157556\n",
      "2   0.0    8.7  0.499999  0.050554  0.189086  0.221865\n",
      "3   0.0    7.7  0.092081  0.009823  0.029310  0.106109\n",
      "4   0.0    7.3  0.044997  0.016846  0.013995  0.138264\n"
     ]
    }
   ],
   "source": [
    "# Create new data frame with no NaNs\n",
    "df = pd.DataFrame({\n",
    "    'year': year,\n",
    "    'score': score,\n",
    "    'votes': votes,\n",
    "    'budget': budget,\n",
    "    'gross': gross,\n",
    "    'runtime': duration\n",
    "})\n",
    "\n",
    "print(df.head())"
   ]
  },
  {
   "cell_type": "markdown",
   "id": "c5c44b02-695c-4452-93b3-88dbd5663af0",
   "metadata": {},
   "source": [
    "# Split data"
   ]
  },
  {
   "cell_type": "code",
   "execution_count": 51,
   "id": "bd8028d4-cdec-485f-aa7c-5d910fda3c58",
   "metadata": {},
   "outputs": [
    {
     "name": "stdout",
     "output_type": "stream",
     "text": [
      "Train parameters: (4348, 5)\n",
      "Train scores: (4348,)\n",
      "Test parameters: (1087, 5)\n",
      "Test scores: (1087,)\n"
     ]
    }
   ],
   "source": [
    "X = df[['year', 'votes', 'budget', 'gross', 'runtime']].values\n",
    "y = df['score'].apply(lambda x: 1 if x >= 6 else 0).values\n",
    "\n",
    "xtrain, xtest, ytrain, ytest = train_test_split(X, y, train_size = 0.8)\n",
    "\n",
    "print('Train parameters:', np.shape(xtrain))\n",
    "print('Train scores:', np.shape(ytrain))\n",
    "print('Test parameters:', np.shape(xtest))\n",
    "print('Test scores:', np.shape(ytest))"
   ]
  },
  {
   "cell_type": "markdown",
   "id": "17f6a148-ab63-4908-86e8-eeec9c5397ce",
   "metadata": {},
   "source": [
    "# Classification"
   ]
  },
  {
   "cell_type": "code",
   "execution_count": 56,
   "id": "b1b650c5-0d3c-4bb5-a84d-5d6a69c82564",
   "metadata": {},
   "outputs": [],
   "source": [
    "y_predict = testing_subset(xtest, xtrain, ytrain, 5)"
   ]
  },
  {
   "cell_type": "code",
   "execution_count": 57,
   "id": "4c81cf60-5331-4bc5-9f60-b912da64da41",
   "metadata": {},
   "outputs": [
    {
     "name": "stdout",
     "output_type": "stream",
     "text": [
      "Accuracy: 76.08 %\n",
      "Precision: 80.39 %\n",
      "Recall: 87.14 %\n",
      "F1 score: 83.63 %\n"
     ]
    }
   ],
   "source": [
    "print('Accuracy:', '{:.2f}'.format(100*accuracy(y_predict, ytest)), '%')\n",
    "print('Precision:', '{:.2f}'.format(100*precision(y_predict, ytest)), '%')\n",
    "print('Recall:', '{:.2f}'.format(100*recall(y_predict, ytest)), '%')\n",
    "print('F1 score:', '{:.2f}'.format(100*f1(y_predict, ytest)), '%')"
   ]
  },
  {
   "cell_type": "markdown",
   "id": "e31719fd-3f59-4bf4-9fa0-789c5248bd74",
   "metadata": {},
   "source": [
    "# Using library functions"
   ]
  },
  {
   "cell_type": "code",
   "execution_count": 52,
   "id": "c508dda0-6f06-4350-862d-53cef63f7da4",
   "metadata": {},
   "outputs": [
    {
     "name": "stdout",
     "output_type": "stream",
     "text": [
      "Accuracy: 76.08 %\n",
      "Precision: 80.39 %\n",
      "Recall: 87.14 %\n",
      "F1 score: 83.63 %\n"
     ]
    }
   ],
   "source": [
    "from sklearn.neighbors import KNeighborsClassifier\n",
    "from sklearn.metrics import accuracy_score, recall_score, precision_score, f1_score\n",
    "\n",
    "fitter = KNeighborsClassifier(n_neighbors = 5)\n",
    "fitter.fit(xtrain, ytrain)\n",
    "y_predict_sklearn = fitter.predict(xtest)\n",
    "\n",
    "print('Accuracy:', '{:.2f}'.format(100*accuracy_score(y_predict_sklearn, ytest)), '%')\n",
    "print('Precision:', '{:.2f}'.format(100*precision_score(ytest, y_predict_sklearn, )), '%')\n",
    "print('Recall:', '{:.2f}'.format(100*recall_score(ytest, y_predict_sklearn)), '%')\n",
    "print('F1 score:', '{:.2f}'.format(100*f1_score(ytest, y_predict_sklearn)), '%')"
   ]
  },
  {
   "cell_type": "markdown",
   "id": "ee31b24a-e9ba-481d-9c8a-6f558e221bf7",
   "metadata": {},
   "source": [
    "# ROC curve"
   ]
  },
  {
   "cell_type": "code",
   "execution_count": 58,
   "id": "152d54db-b757-4ea8-b805-cb63f0181e41",
   "metadata": {},
   "outputs": [
    {
     "data": {
      "image/png": "[encoded data removed]",
      "text/plain": [
       "<Figure size 800x600 with 1 Axes>"
      ]
     },
     "metadata": {},
     "output_type": "display_data"
    }
   ],
   "source": [
    "import matplotlib.pyplot as plt\n",
    "from sklearn.metrics import roc_curve, auc\n",
    "\n",
    "# Compute ROC curve\n",
    "fpr, tpr, thresholds = roc_curve(ytest, y_predict_sklearn)\n",
    "\n",
    "# Compute AUC (area under curve)\n",
    "roc_auc = auc(fpr, tpr)\n",
    "\n",
    "# Plot\n",
    "plt.figure(figsize=(8,6))\n",
    "plt.plot(fpr, tpr, label=f\"ROC curve (AUC = {roc_auc:.2f})\", color=\"red\", lw=2)\n",
    "plt.xlabel(\"False Positive Rate\")\n",
    "plt.ylabel(\"True Positive Rate (Recall)\")\n",
    "plt.title(\"Receiver Operating Characteristic (ROC) Curve\")\n",
    "plt.legend(loc=\"lower right\")\n",
    "plt.grid(True)\n",
    "plt.tight_layout()\n",
    "plt.show()"
   ]
  }
 ],
 "metadata": {
  "kernelspec": {
   "display_name": "Python 3 (ipykernel)",
   "language": "python",
   "name": "python3"
  },
  "language_info": {
   "codemirror_mode": {
    "name": "ipython",
    "version": 3
   },
   "file_extension": ".py",
   "mimetype": "text/x-python",
   "name": "python",
   "nbconvert_exporter": "python",
   "pygments_lexer": "ipython3",
   "version": "3.11.7"
  }
 },
 "nbformat": 4,
 "nbformat_minor": 5
}
